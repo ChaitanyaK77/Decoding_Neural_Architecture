{
  "nbformat": 4,
  "nbformat_minor": 0,
  "metadata": {
    "colab": {
      "provenance": []
    },
    "kernelspec": {
      "name": "python3",
      "display_name": "Python 3"
    },
    "language_info": {
      "name": "python"
    }
  },
  "cells": [
    {
      "cell_type": "markdown",
      "source": [
        "**Vectorized Implemetation of a 3 Layered Neural Network**"
      ],
      "metadata": {
        "id": "tuFLxxjBVHDh"
      }
    },
    {
      "cell_type": "markdown",
      "source": [
        "*FORWARD PROPAGATION*"
      ],
      "metadata": {
        "id": "cfy9hAMLXQBn"
      }
    },
    {
      "cell_type": "code",
      "source": [
        "import numpy as np\n",
        "import math"
      ],
      "metadata": {
        "id": "OpFrphHqV2PT"
      },
      "execution_count": 13,
      "outputs": []
    },
    {
      "cell_type": "code",
      "source": [
        "\n",
        "def sigmoid(z):\n",
        "    return 1 / (1 + np.exp(-z))\n",
        "\n"
      ],
      "metadata": {
        "id": "EgW0-jyTVzIg"
      },
      "execution_count": 14,
      "outputs": []
    },
    {
      "cell_type": "code",
      "source": [
        "x = np.array([200,17])\n",
        "w = np.array([[1,-3,5],\n",
        "              [-2,4,-6]])\n",
        "b = np.array([[-1,1,2]])\n",
        "\n",
        "\n",
        "def dense(A_in,W,B):\n",
        "  Z = np.matmul(A_in,W) + B\n",
        "  A_out = sigmoid(Z)\n",
        "  return A_out"
      ],
      "metadata": {
        "id": "sgKN0WIjVXPh"
      },
      "execution_count": 15,
      "outputs": []
    },
    {
      "cell_type": "code",
      "source": [
        "dense(x,w,b)"
      ],
      "metadata": {
        "colab": {
          "base_uri": "https://localhost:8080/"
        },
        "id": "u44iqeD3WKvT",
        "outputId": "a87e4dd3-2df6-41e9-c542-a3904f9c5974"
      },
      "execution_count": 16,
      "outputs": [
        {
          "output_type": "execute_result",
          "data": {
            "text/plain": [
              "array([[1.00000000e+000, 2.45261912e-231, 1.00000000e+000]])"
            ]
          },
          "metadata": {},
          "execution_count": 16
        }
      ]
    },
    {
      "cell_type": "code",
      "source": [],
      "metadata": {
        "id": "onplaJiAWPF9"
      },
      "execution_count": null,
      "outputs": []
    }
  ]
}