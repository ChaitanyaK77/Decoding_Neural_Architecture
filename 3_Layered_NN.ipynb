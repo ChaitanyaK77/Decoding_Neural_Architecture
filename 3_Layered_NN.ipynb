{
  "nbformat": 4,
  "nbformat_minor": 0,
  "metadata": {
    "colab": {
      "provenance": []
    },
    "kernelspec": {
      "name": "python3",
      "display_name": "Python 3"
    },
    "language_info": {
      "name": "python"
    }
  },
  "cells": [
    {
      "cell_type": "code",
      "execution_count": 12,
      "metadata": {
        "id": "_51tr2vmPZVz"
      },
      "outputs": [],
      "source": [
        "import numpy as np\n",
        "import pandas as pd\n",
        "import math as m"
      ]
    },
    {
      "cell_type": "code",
      "source": [
        "def sigmoid(val):\n",
        "    if val >= 0:\n",
        "        return 1 / (1 + np.exp(-val))\n",
        "    else:\n",
        "        exp_z = np.exp(val)\n",
        "        return exp_z / (1 + exp_z)\n"
      ],
      "metadata": {
        "id": "SgRxx-kjSD6b"
      },
      "execution_count": 19,
      "outputs": []
    },
    {
      "cell_type": "code",
      "source": [
        "sigmoid(0)"
      ],
      "metadata": {
        "colab": {
          "base_uri": "https://localhost:8080/"
        },
        "id": "tpavk40zSPyA",
        "outputId": "38c10a5a-b85f-47ba-e0b8-5cdf6defead8"
      },
      "execution_count": 20,
      "outputs": [
        {
          "output_type": "execute_result",
          "data": {
            "text/plain": [
              "0.5"
            ]
          },
          "metadata": {},
          "execution_count": 20
        }
      ]
    },
    {
      "cell_type": "markdown",
      "source": [
        "**LAYER 1**\n",
        "\n",
        "\n"
      ],
      "metadata": {
        "id": "HX4y8D5SUAvW"
      }
    },
    {
      "cell_type": "code",
      "source": [
        "x = np.array([200,17])\n",
        "\n",
        "\n",
        "\n",
        "    # LAYER 1\n",
        "# NEURON 1\n",
        "\n",
        "w1_1 = np.array([1,2])\n",
        "b1_1 = np.array([-1])\n",
        "z1_1 = np.dot(w1_1,x)+b1_1\n",
        "a1_1 = sigmoid(z1_1)\n",
        "\n",
        "# NEURON 2\n",
        "\n",
        "w1_2 = np.array([-3,4])\n",
        "b1_2 = np.array([1])\n",
        "z1_2 = np.dot(w1_2,x)+b1_2\n",
        "a1_2 = sigmoid(z1_2)\n",
        "\n",
        "# NEURON 3\n",
        "\n",
        "w1_3 = np.array([5,-6])\n",
        "b1_3 = np.array([2])\n",
        "z1_3 = np.dot(w1_3,x)+b1_3\n",
        "a1_3 = sigmoid(z1_3)\n",
        "\n",
        "a1 = np.array([a1_1,a1_2,a1_3])"
      ],
      "metadata": {
        "id": "OzhlAgw6PbUy"
      },
      "execution_count": 23,
      "outputs": []
    },
    {
      "cell_type": "markdown",
      "source": [
        "**LAYER 2**"
      ],
      "metadata": {
        "id": "4WNJSEFWUGD_"
      }
    },
    {
      "cell_type": "code",
      "source": [
        "# NEURON 1\n",
        "\n",
        "w2_1 = np.array([-7,8,9])\n",
        "b2_1 = np.array([3])\n",
        "z2_1 = np.dot(w2_1,a1)+b2_1\n",
        "a2_1 = sigmoid(z2_1)\n",
        "\n",
        "# NEURON 2\n",
        "\n",
        "w2_2 = np.array([8,2,11])\n",
        "b2_2 = np.array([4])\n",
        "z2_2 = np.dot(w2_1,a1)+b2_2\n",
        "a2_2 = sigmoid(z2_2)\n",
        "\n",
        "a2 = np.array([a2_1,a2_2])"
      ],
      "metadata": {
        "id": "Z6Q7oz-JSCdq"
      },
      "execution_count": 29,
      "outputs": []
    },
    {
      "cell_type": "markdown",
      "source": [
        "**OUTPUT LAYER**"
      ],
      "metadata": {
        "id": "z6z7LzGNVlhx"
      }
    },
    {
      "cell_type": "code",
      "source": [
        "# FINAL ACTIVATION\n",
        "w3_1 = np.array([13,7])\n",
        "b3_1 = np.array([5])\n",
        "z3_1 = np.dot(w3_1,a2)+b3_1\n",
        "a3_1 = sigmoid(z3_1)"
      ],
      "metadata": {
        "id": "Ss8mMlYxVp53"
      },
      "execution_count": 32,
      "outputs": []
    },
    {
      "cell_type": "markdown",
      "source": [
        "**PREDICTION**"
      ],
      "metadata": {
        "id": "E6golmE5WDKW"
      }
    },
    {
      "cell_type": "code",
      "source": [
        "def predict_classify(output):\n",
        "  if output>=0.5:\n",
        "    return 1\n",
        "  else:\n",
        "    return 0"
      ],
      "metadata": {
        "id": "onzTqpOcUnIq"
      },
      "execution_count": 33,
      "outputs": []
    },
    {
      "cell_type": "code",
      "source": [
        "predict_classify(a3_1)"
      ],
      "metadata": {
        "colab": {
          "base_uri": "https://localhost:8080/"
        },
        "id": "_gkFoLJ7VkyE",
        "outputId": "e9b7504d-c5b0-43bc-b0ab-20fb819739ef"
      },
      "execution_count": 34,
      "outputs": [
        {
          "output_type": "execute_result",
          "data": {
            "text/plain": [
              "1"
            ]
          },
          "metadata": {},
          "execution_count": 34
        }
      ]
    },
    {
      "cell_type": "code",
      "source": [],
      "metadata": {
        "id": "_iji4E2RVE3T"
      },
      "execution_count": null,
      "outputs": []
    }
  ]
}